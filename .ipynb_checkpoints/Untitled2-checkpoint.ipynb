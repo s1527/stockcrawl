{
 "cells": [
  {
   "cell_type": "markdown",
   "metadata": {},
   "source": [
    "# 積分"
   ]
  },
  {
   "cell_type": "code",
   "execution_count": 10,
   "metadata": {
    "collapsed": true
   },
   "outputs": [],
   "source": [
    "class 積分():\n",
    "    def __init__(self,t0,t_end,function1,dpi=100000):\n",
    "        self.t0=t0\n",
    "        self.t_end=t_end\n",
    "        self.function1=function1\n",
    "        self.dpi=dpi\n",
    "        \n",
    "    def g分(self):\n",
    "        import numpy as np\n",
    "        #取 x 值得點\n",
    "        rs1=np.linspace(self.t0,self.t_end,self.dpi)\n",
    "        #取 y 的點\n",
    "        rs2=np.apply_along_axis(self.function1,0,rs1)\n",
    "        #計算面積\n",
    "        index=0\n",
    "        area=0\n",
    "        leng=rs1[1]-rs1[0]\n",
    "        while index<self.dpi:\n",
    "            area+=leng*rs2[index]\n",
    "            index+=1\n",
    "        return area\n",
    "        \n",
    "        \n",
    "        "
   ]
  },
  {
   "cell_type": "code",
   "execution_count": 18,
   "metadata": {
    "collapsed": true
   },
   "outputs": [],
   "source": [
    "def f(x):\n",
    "    \n",
    "    return x**2"
   ]
  },
  {
   "cell_type": "code",
   "execution_count": 1,
   "metadata": {
    "collapsed": false
   },
   "outputs": [
    {
     "ename": "NameError",
     "evalue": "name '積分' is not defined",
     "output_type": "error",
     "traceback": [
      "\u001b[0;31m---------------------------------------------------------------------------\u001b[0m",
      "\u001b[0;31mNameError\u001b[0m                                 Traceback (most recent call last)",
      "\u001b[0;32m<ipython-input-1-a30072512616>\u001b[0m in \u001b[0;36m<module>\u001b[0;34m()\u001b[0m\n\u001b[0;32m----> 1\u001b[0;31m \u001b[0mm\u001b[0m\u001b[0;34m=\u001b[0m\u001b[0m積分\u001b[0m\u001b[0;34m(\u001b[0m\u001b[0;36m0\u001b[0m\u001b[0;34m,\u001b[0m\u001b[0;36m2\u001b[0m\u001b[0;34m,\u001b[0m\u001b[0mf\u001b[0m\u001b[0;34m)\u001b[0m\u001b[0;34m\u001b[0m\u001b[0m\n\u001b[0m\u001b[1;32m      2\u001b[0m \u001b[0mm\u001b[0m\u001b[0;34m.\u001b[0m\u001b[0mg分\u001b[0m\u001b[0;34m(\u001b[0m\u001b[0;34m)\u001b[0m\u001b[0;34m\u001b[0m\u001b[0m\n",
      "\u001b[0;31mNameError\u001b[0m: name '積分' is not defined"
     ]
    }
   ],
   "source": [
    "m=積分(0,2,f)\n",
    "m.g分()"
   ]
  },
  {
   "cell_type": "code",
   "execution_count": 24,
   "metadata": {
    "collapsed": false
   },
   "outputs": [
    {
     "name": "stdout",
     "output_type": "stream",
     "text": [
      "Requirement already satisfied: jupyterthemes in /anaconda/lib/python3.6/site-packages (0.19.6)\n",
      "Requirement already satisfied: ipython>=5.4.1 in /anaconda/lib/python3.6/site-packages (from jupyterthemes) (7.0.1)\n",
      "Requirement already satisfied: lesscpy>=0.11.2 in /anaconda/lib/python3.6/site-packages (from jupyterthemes) (0.13.0)\n",
      "Requirement already satisfied: notebook>=5.6.0 in /anaconda/lib/python3.6/site-packages (from jupyterthemes) (5.7.0)\n",
      "Requirement already satisfied: jupyter-core in /anaconda/lib/python3.6/site-packages (from jupyterthemes) (4.3.0)\n",
      "Requirement already satisfied: matplotlib>=1.4.3 in /anaconda/lib/python3.6/site-packages (from jupyterthemes) (2.0.2)\n",
      "Requirement already satisfied: simplegeneric>0.8 in /anaconda/lib/python3.6/site-packages (from ipython>=5.4.1->jupyterthemes) (0.8.1)\n",
      "Requirement already satisfied: prompt-toolkit<2.1.0,>=2.0.0 in /anaconda/lib/python3.6/site-packages (from ipython>=5.4.1->jupyterthemes) (2.0.5)\n",
      "Requirement already satisfied: decorator in /anaconda/lib/python3.6/site-packages (from ipython>=5.4.1->jupyterthemes) (4.0.11)\n",
      "Requirement already satisfied: setuptools>=18.5 in /anaconda/lib/python3.6/site-packages/setuptools-27.2.0-py3.6.egg (from ipython>=5.4.1->jupyterthemes) (27.2.0)\n",
      "Requirement already satisfied: appnope; sys_platform == \"darwin\" in /anaconda/lib/python3.6/site-packages (from ipython>=5.4.1->jupyterthemes) (0.1.0)\n",
      "Requirement already satisfied: pygments in /anaconda/lib/python3.6/site-packages (from ipython>=5.4.1->jupyterthemes) (2.2.0)\n",
      "Requirement already satisfied: traitlets>=4.2 in /anaconda/lib/python3.6/site-packages (from ipython>=5.4.1->jupyterthemes) (4.3.2)\n",
      "Requirement already satisfied: backcall in /anaconda/lib/python3.6/site-packages (from ipython>=5.4.1->jupyterthemes) (0.1.0)\n",
      "Requirement already satisfied: jedi>=0.10 in /anaconda/lib/python3.6/site-packages (from ipython>=5.4.1->jupyterthemes) (0.10.2)\n",
      "Requirement already satisfied: pexpect; sys_platform != \"win32\" in /anaconda/lib/python3.6/site-packages (from ipython>=5.4.1->jupyterthemes) (4.2.1)\n",
      "Requirement already satisfied: pickleshare in /anaconda/lib/python3.6/site-packages (from ipython>=5.4.1->jupyterthemes) (0.7.4)\n",
      "Requirement already satisfied: six in /anaconda/lib/python3.6/site-packages (from lesscpy>=0.11.2->jupyterthemes) (1.10.0)\n",
      "Requirement already satisfied: ply in /anaconda/lib/python3.6/site-packages (from lesscpy>=0.11.2->jupyterthemes) (3.10)\n",
      "Requirement already satisfied: pyzmq>=17 in /anaconda/lib/python3.6/site-packages (from notebook>=5.6.0->jupyterthemes) (17.1.2)\n",
      "Requirement already satisfied: tornado>=4 in /anaconda/lib/python3.6/site-packages (from notebook>=5.6.0->jupyterthemes) (4.5.1)\n",
      "Requirement already satisfied: nbformat in /anaconda/lib/python3.6/site-packages (from notebook>=5.6.0->jupyterthemes) (4.3.0)\n",
      "Requirement already satisfied: nbconvert in /anaconda/lib/python3.6/site-packages (from notebook>=5.6.0->jupyterthemes) (5.1.1)\n",
      "Requirement already satisfied: prometheus-client in /anaconda/lib/python3.6/site-packages (from notebook>=5.6.0->jupyterthemes) (0.4.0)\n",
      "Requirement already satisfied: ipykernel in /anaconda/lib/python3.6/site-packages (from notebook>=5.6.0->jupyterthemes) (4.6.1)\n",
      "Requirement already satisfied: Send2Trash in /anaconda/lib/python3.6/site-packages (from notebook>=5.6.0->jupyterthemes) (1.5.0)\n",
      "Requirement already satisfied: jupyter-client>=5.2.0 in /anaconda/lib/python3.6/site-packages (from notebook>=5.6.0->jupyterthemes) (5.2.3)\n",
      "Requirement already satisfied: jinja2 in /anaconda/lib/python3.6/site-packages (from notebook>=5.6.0->jupyterthemes) (2.9.6)\n",
      "Requirement already satisfied: terminado>=0.8.1 in /anaconda/lib/python3.6/site-packages (from notebook>=5.6.0->jupyterthemes) (0.8.1)\n",
      "Requirement already satisfied: ipython-genutils in /anaconda/lib/python3.6/site-packages (from notebook>=5.6.0->jupyterthemes) (0.2.0)\n",
      "Requirement already satisfied: numpy>=1.7.1 in /anaconda/lib/python3.6/site-packages (from matplotlib>=1.4.3->jupyterthemes) (1.12.1)\n",
      "Requirement already satisfied: python-dateutil in /anaconda/lib/python3.6/site-packages (from matplotlib>=1.4.3->jupyterthemes) (2.6.0)\n",
      "Requirement already satisfied: pytz in /anaconda/lib/python3.6/site-packages (from matplotlib>=1.4.3->jupyterthemes) (2017.2)\n",
      "Requirement already satisfied: cycler>=0.10 in /anaconda/lib/python3.6/site-packages (from matplotlib>=1.4.3->jupyterthemes) (0.10.0)\n",
      "Requirement already satisfied: pyparsing!=2.0.4,!=2.1.2,!=2.1.6,>=1.5.6 in /anaconda/lib/python3.6/site-packages (from matplotlib>=1.4.3->jupyterthemes) (2.1.4)\n",
      "Requirement already satisfied: wcwidth in /anaconda/lib/python3.6/site-packages (from prompt-toolkit<2.1.0,>=2.0.0->ipython>=5.4.1->jupyterthemes) (0.1.7)\n",
      "Requirement already satisfied: mistune!=0.6 in /anaconda/lib/python3.6/site-packages (from nbconvert->notebook>=5.6.0->jupyterthemes) (0.7.4)\n",
      "Requirement already satisfied: entrypoints>=0.2.2 in /anaconda/lib/python3.6/site-packages (from nbconvert->notebook>=5.6.0->jupyterthemes) (0.2.2)\n",
      "Requirement already satisfied: bleach in /anaconda/lib/python3.6/site-packages (from nbconvert->notebook>=5.6.0->jupyterthemes) (1.5.0)\n",
      "Requirement already satisfied: pandocfilters>=1.4.1 in /anaconda/lib/python3.6/site-packages (from nbconvert->notebook>=5.6.0->jupyterthemes) (1.4.1)\n",
      "Requirement already satisfied: testpath in /anaconda/lib/python3.6/site-packages (from nbconvert->notebook>=5.6.0->jupyterthemes) (0.3)\n",
      "Requirement already satisfied: MarkupSafe>=0.23 in /anaconda/lib/python3.6/site-packages (from jinja2->notebook>=5.6.0->jupyterthemes) (0.23)\n",
      "Requirement already satisfied: ptyprocess; os_name != \"nt\" in /anaconda/lib/python3.6/site-packages (from terminado>=0.8.1->notebook>=5.6.0->jupyterthemes) (0.5.1)\n",
      "Requirement already satisfied: html5lib!=0.9999,!=0.99999,<0.99999999,>=0.999 in /anaconda/lib/python3.6/site-packages (from bleach->nbconvert->notebook>=5.6.0->jupyterthemes) (0.9999999)\n"
     ]
    }
   ],
   "source": [
    "!pip install jupyterthemes"
   ]
  },
  {
   "cell_type": "code",
   "execution_count": 25,
   "metadata": {
    "collapsed": true
   },
   "outputs": [],
   "source": [
    "!jt -t chesterish"
   ]
  },
  {
   "cell_type": "code",
   "execution_count": 23,
   "metadata": {
    "collapsed": false
   },
   "outputs": [
    {
     "name": "stdout",
     "output_type": "stream",
     "text": [
      "Collecting pip\n",
      "  Downloading https://files.pythonhosted.org/packages/c2/d7/90f34cb0d83a6c5631cf71dfe64cc1054598c843a92b400e55675cc2ac37/pip-18.1-py2.py3-none-any.whl (1.3MB)\n",
      "\u001b[K    100% |████████████████████████████████| 1.3MB 537kB/s ta 0:00:01\n",
      "\u001b[?25hInstalling collected packages: pip\n",
      "  Found existing installation: pip 9.0.1\n",
      "    Uninstalling pip-9.0.1:\n",
      "      Successfully uninstalled pip-9.0.1\n",
      "Successfully installed pip-18.1\n"
     ]
    }
   ],
   "source": [
    "!pip install --upgrade pip"
   ]
  },
  {
   "cell_type": "code",
   "execution_count": 4,
   "metadata": {
    "collapsed": false,
    "scrolled": true
   },
   "outputs": [],
   "source": [
    "import tensorflow as tf"
   ]
  },
  {
   "cell_type": "code",
   "execution_count": 5,
   "metadata": {
    "collapsed": true
   },
   "outputs": [],
   "source": [
    "hello=tf.constant('hello')"
   ]
  },
  {
   "cell_type": "code",
   "execution_count": 6,
   "metadata": {
    "collapsed": true
   },
   "outputs": [],
   "source": [
    "sess=tf.Session()"
   ]
  },
  {
   "cell_type": "code",
   "execution_count": 9,
   "metadata": {
    "collapsed": false
   },
   "outputs": [
    {
     "data": {
      "text/plain": [
       "b'hello'"
      ]
     },
     "execution_count": 9,
     "metadata": {},
     "output_type": "execute_result"
    }
   ],
   "source": [
    "sess.run(hello)"
   ]
  },
  {
   "cell_type": "code",
   "execution_count": 10,
   "metadata": {
    "collapsed": true
   },
   "outputs": [],
   "source": [
    "sess.close()"
   ]
  },
  {
   "cell_type": "code",
   "execution_count": null,
   "metadata": {
    "collapsed": true
   },
   "outputs": [],
   "source": []
  }
 ],
 "metadata": {
  "kernelspec": {
   "display_name": "Python 3",
   "language": "python",
   "name": "python3"
  },
  "language_info": {
   "codemirror_mode": {
    "name": "ipython",
    "version": 3
   },
   "file_extension": ".py",
   "mimetype": "text/x-python",
   "name": "python",
   "nbconvert_exporter": "python",
   "pygments_lexer": "ipython3",
   "version": "3.5.4"
  }
 },
 "nbformat": 4,
 "nbformat_minor": 2
}
