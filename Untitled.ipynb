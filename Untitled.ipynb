{
 "cells": [
  {
   "cell_type": "code",
   "execution_count": 2,
   "metadata": {
    "collapsed": true
   },
   "outputs": [],
   "source": [
    "class b_distribute():\n",
    "    \n",
    "    def __init__(self,p,times,b_t):\n",
    "        self.p=p\n",
    "        self.times=times\n",
    "        self.b_t=b_t\n",
    "        \n",
    "    def get_rand(self):\n",
    "        '''得到隨機數p是機率'''\n",
    "        import numpy as np\n",
    "        a=np.random.rand()\n",
    "        if a<self.p:\n",
    "            return 1\n",
    "        else:\n",
    "            return 0\n",
    "    \n",
    "    def exp_b(self):\n",
    "        '''白努力試驗'''\n",
    "        total=0\n",
    "        for time in range(self.times):\n",
    "            sl=self.get_rand()\n",
    "            if sl:\n",
    "                total+=1\n",
    "        return total\n",
    "    def batch_exp(self):\n",
    "        '''白努力過程'''\n",
    "        suc_times=[0 for i in range(self.times+1)]\n",
    "        for i in range(self.b_t):\n",
    "            g=self.exp_b()\n",
    "            suc_times[g]=suc_times[g]+1\n",
    "        return suc_times\n",
    "\n",
    "    def plot(self):\n",
    "        import matplotlib.pyplot as plt\n",
    "        %matplotlib inline\n",
    "        x=[i for i in range(self.times+1)]\n",
    "        y=self.batch_exp()\n",
    "        plt.plot(x,y,'r')\n"
   ]
  },
  {
   "cell_type": "code",
   "execution_count": 8,
   "metadata": {},
   "outputs": [
    {
     "data": {
      "image/png": "[encoded data removed]",
      "text/plain": [
       "<matplotlib.figure.Figure at 0x111097518>"
      ]
     },
     "metadata": {},
     "output_type": "display_data"
    }
   ],
   "source": [
    "t1=b_distribute(0.5,10,10000)\n",
    "t1.plot()"
   ]
  },
  {
   "cell_type": "code",
   "execution_count": 20,
   "metadata": {
    "collapsed": true
   },
   "outputs": [],
   "source": [
    "a1=[]"
   ]
  },
  {
   "cell_type": "code",
   "execution_count": 85,
   "metadata": {
    "collapsed": true
   },
   "outputs": [],
   "source": [
    "l=[q/100-50 for q in range(10000)]"
   ]
  },
  {
   "cell_type": "code",
   "execution_count": 86,
   "metadata": {
    "collapsed": true
   },
   "outputs": [],
   "source": [
    "l2=map(nm,l)"
   ]
  },
  {
   "cell_type": "code",
   "execution_count": 87,
   "metadata": {
    "collapsed": true
   },
   "outputs": [],
   "source": [
    "def nm(x):\n",
    "   \n",
    "    r=1/((2.0*3.14159)**0.5)\n",
    "    r=r*2.71828**((-x**2.0)/2.0)\n",
    "    return r"
   ]
  },
  {
   "cell_type": "code",
   "execution_count": 88,
   "metadata": {
    "collapsed": true
   },
   "outputs": [],
   "source": [
    "l3=list(map(nm,l))"
   ]
  },
  {
   "cell_type": "code",
   "execution_count": 91,
   "metadata": {},
   "outputs": [
    {
     "data": {
      "text/plain": [
       "[<matplotlib.lines.Line2D at 0x11a2949e8>]"
      ]
     },
     "execution_count": 91,
     "metadata": {},
     "output_type": "execute_result"
    },
    {
     "data": {
      "image/png": "[encoded data removed]",
      "text/plain": [
       "<matplotlib.figure.Figure at 0x11a2e5fd0>"
      ]
     },
     "metadata": {},
     "output_type": "display_data"
    }
   ],
   "source": [
    "import matplotlib.pyplot as plt\n",
    "%matplotlib inline\n",
    "plt.plot(l,l3)"
   ]
  },
  {
   "cell_type": "markdown",
   "metadata": {},
   "source": [
    "# 伽馬分佈 "
   ]
  },
  {
   "cell_type": "code",
   "execution_count": 100,
   "metadata": {},
   "outputs": [
    {
     "data": {
      "text/plain": [
       "[<matplotlib.lines.Line2D at 0x11a187668>]"
      ]
     },
     "execution_count": 100,
     "metadata": {},
     "output_type": "execute_result"
    },
    {
     "data": {
      "image/png": "[encoded data removed]",
      "text/plain": [
       "<matplotlib.figure.Figure at 0x11a0b24a8>"
      ]
     },
     "metadata": {},
     "output_type": "display_data"
    }
   ],
   "source": [
    "import numpy as np\n",
    "x=np.linspace(0,10,10000)\n",
    "y=2.71828**(-x)\n",
    "\n",
    "plt.plot(x,y)\n"
   ]
  },
  {
   "cell_type": "code",
   "execution_count": 13,
   "metadata": {},
   "outputs": [
    {
     "data": {
      "image/png": "[encoded data removed]",
      "text/plain": [
       "<matplotlib.figure.Figure at 0x115bf5470>"
      ]
     },
     "metadata": {},
     "output_type": "display_data"
    }
   ],
   "source": [
    "class 指數分佈():\n",
    "    \n",
    "    def __init__(self,a,b):\n",
    "        self.a=a\n",
    "        self.b=b\n",
    "    \n",
    "    def 階層(self,x):\n",
    "        if x==1 or x==0:\n",
    "            return 1\n",
    "        else:\n",
    "            return x*階層(x-1)\n",
    "\n",
    "    def f(self,x):\n",
    "        #ans=x**2\n",
    "        ans=1/self.b**(self.a)/self.階層(self.a-1)*(x**(self.a-1))*2.71828**(-x/self.b)\n",
    "        return ans\n",
    "\n",
    "    def plot(self):\n",
    "        import numpy as np\n",
    "        import matplotlib.pyplot as plt\n",
    "        x=np.linspace(0.0001,10,100000)\n",
    "        y=np.apply_along_axis(self.f,0,x)\n",
    "        plt.plot(x,y)\n",
    "    def 積分(self,end=3):\n",
    "        area=0\n",
    "        anchor=0\n",
    "        while anchor<end:\n",
    "            #get height\n",
    "            height=self.f(anchor)\n",
    "            weidth=10/100000\n",
    "            \n",
    "            area+=height*weidth\n",
    "            anchor+=10/100000\n",
    "        return area\n",
    "            \n",
    "a=指數分佈(a=1,b=1)\n",
    "a.plot()\n",
    "# a.積分(3)\n",
    "# # a.plot()\n",
    "\n",
    "b=指數分佈(1,3)\n",
    "b.plot()\n",
    "\n",
    "c=指數分佈(1,4)\n",
    "c.plot()\n"
   ]
  },
  {
   "cell_type": "code",
   "execution_count": 182,
   "metadata": {},
   "outputs": [
    {
     "data": {
      "text/plain": [
       "0.3110494544759362"
      ]
     },
     "execution_count": 182,
     "metadata": {},
     "output_type": "execute_result"
    }
   ],
   "source": [
    "a=2.17828**(-3/2)\n",
    "a"
   ]
  },
  {
   "cell_type": "code",
   "execution_count": null,
   "metadata": {
    "collapsed": true
   },
   "outputs": [],
   "source": [
    "# print('ho')"
   ]
  },
  {
   "cell_type": "code",
   "execution_count": 78,
   "metadata": {},
   "outputs": [
    {
     "data": {
      "text/plain": [
       "0.003266830994578138"
      ]
     },
     "execution_count": 78,
     "metadata": {},
     "output_type": "execute_result"
    }
   ],
   "source": [
    "nm(3.1)"
   ]
  },
  {
   "cell_type": "code",
   "execution_count": 92,
   "metadata": {
    "collapsed": true
   },
   "outputs": [],
   "source": [
    "def function1(x):\n",
    "    return x**2"
   ]
  },
  {
   "cell_type": "code",
   "execution_count": null,
   "metadata": {
    "collapsed": true
   },
   "outputs": [],
   "source": [
    "area=0\n",
    "start=0\n",
    "end=1\n",
    "split=1000\n",
    "cursor=start\n",
    "\n",
    "while cursor<2:\n",
    "    fx=function1(cursor)\n",
    "    dx=1/split\n",
    "    darea=fx\n",
    "\n",
    "    "
   ]
  },
  {
   "cell_type": "code",
   "execution_count": 15,
   "metadata": {},
   "outputs": [],
   "source": [
    "def 範圍(l,r,dpi=10000):\n",
    "    import numpy as np\n",
    "    rs=np.linspace(l,r,dpi)\n",
    "    return rs\n",
    "def 取值(x,fx):\n",
    "    import numpy as np\n",
    "    rs=np.apply_along_axis(fx,0,x)\n",
    "    return rs\n",
    "def 繪圖(x,y):\n",
    "    import matplotlib.pyplot as plt\n",
    "    %matplotlib inline\n",
    "    fig = plt.figure(figsize=(8,3))\n",
    "    #添加子圖\n",
    "    axe = fig.add_axes([0,0,1,1])\n",
    "    axe.plot(x,y,label='graph')\n",
    "    \n",
    "    #顯示圖例並調整其位置\n",
    "    plt.legend(loc = 0)\n",
    "def 積分(x,y):\n",
    "    leng=len(x)\n",
    "    index=0\n",
    "    area=0\n",
    "    leng_x=x[1]-x[0]\n",
    "    while index<leng:\n",
    "        area+=leng_x*y[index]\n",
    "        index+=1\n",
    "    return area"
   ]
  },
  {
   "cell_type": "code",
   "execution_count": 21,
   "metadata": {
    "collapsed": true
   },
   "outputs": [],
   "source": [
    "def f1(x):\n",
    "    \n",
    "    #r=2.71828**(-2*x)\n",
    "    r=x\n",
    "    return r"
   ]
  },
  {
   "cell_type": "code",
   "execution_count": 22,
   "metadata": {
    "collapsed": true
   },
   "outputs": [],
   "source": [
    "x=範圍(0,10)"
   ]
  },
  {
   "cell_type": "code",
   "execution_count": 23,
   "metadata": {},
   "outputs": [],
   "source": [
    "y=取值(x,f1)"
   ]
  },
  {
   "cell_type": "code",
   "execution_count": 24,
   "metadata": {},
   "outputs": [
    {
     "data": {
      "image/png": "[encoded data removed]",
      "text/plain": [
       "<matplotlib.figure.Figure at 0x1127549e8>"
      ]
     },
     "metadata": {},
     "output_type": "display_data"
    }
   ],
   "source": [
    "繪圖(x,y)"
   ]
  },
  {
   "cell_type": "code",
   "execution_count": 25,
   "metadata": {},
   "outputs": [
    {
     "data": {
      "text/plain": [
       "50.005000500050002"
      ]
     },
     "execution_count": 25,
     "metadata": {},
     "output_type": "execute_result"
    }
   ],
   "source": [
    "積分(x,y)"
   ]
  },
  {
   "cell_type": "code",
   "execution_count": 26,
   "metadata": {},
   "outputs": [],
   "source": [
    "import pickle"
   ]
  },
  {
   "cell_type": "code",
   "execution_count": 28,
   "metadata": {},
   "outputs": [],
   "source": [
    "try:\n",
    "    with open('a.pickle','wb') as athf:\n",
    "        pickle.dump({'a':1,'b':2},athf)\n",
    "    \n",
    "except IOError as ioerr:\n",
    "    print(str(ioerr))"
   ]
  },
  {
   "cell_type": "markdown",
   "metadata": {},
   "source": [
    "# \\int _{ -\\infty  }^{ \\infty  }{ { e }^{ 2 } } "
   ]
  },
  {
   "cell_type": "code",
   "execution_count": null,
   "metadata": {
    "collapsed": true
   },
   "outputs": [],
   "source": [
    "v"
   ]
  }
 ],
 "metadata": {
  "kernelspec": {
   "display_name": "Python 3",
   "language": "python",
   "name": "python3"
  },
  "language_info": {
   "codemirror_mode": {
    "name": "ipython",
    "version": 3
   },
   "file_extension": ".py",
   "mimetype": "text/x-python",
   "name": "python",
   "nbconvert_exporter": "python",
   "pygments_lexer": "ipython3",
   "version": "3.6.1"
  }
 },
 "nbformat": 4,
 "nbformat_minor": 2
}
